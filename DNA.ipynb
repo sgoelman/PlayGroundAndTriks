{
 "cells": [
  {
   "cell_type": "code",
   "execution_count": null,
   "metadata": {
    "collapsed": true
   },
   "outputs": [],
   "source": [
    "dna='QWEAQWDHSDKLFHLSKDFHLA'\n",
    "\n",
    "from textwrap import wrap\n",
    "print(wrap(dna,3))"
   ]
  },
  {
   "cell_type": "code",
   "execution_count": 4,
   "outputs": [
    {
     "name": "stdout",
     "output_type": "stream",
     "text": [
      "['QWE', 'AQW', 'DHS', 'DKL', 'FHL', 'SKD', 'FHL', 'A']\n"
     ]
    }
   ],
   "source": [
    "\n",
    "k=3\n",
    "dna='QWEAQWDHSDKLFHLSKDFHLA'\n",
    "\n",
    "def split_by_n(seq, n=3):\n",
    "    '''A generator to divide a sequence into chunks of n units.'''\n",
    "    while seq:\n",
    "        yield seq[:n]\n",
    "        seq = seq[n:]\n",
    "print(list(split_by_n(dna,3)))"
   ],
   "metadata": {
    "collapsed": false,
    "pycharm": {
     "name": "#%%\n"
    }
   }
  },
  {
   "cell_type": "code",
   "execution_count": 9,
   "outputs": [
    {
     "name": "stdout",
     "output_type": "stream",
     "text": [
      "A Q W D H S D K L F H L S K D F H L A\n"
     ]
    }
   ],
   "source": [
    "dna='QWEAQWDHSDKLFHLSKDFHLA'\n",
    "print(' '.join([char[:3] for char in dna[3:]]))\n"
   ],
   "metadata": {
    "collapsed": false,
    "pycharm": {
     "name": "#%%\n"
    }
   }
  },
  {
   "cell_type": "code",
   "execution_count": 10,
   "outputs": [
    {
     "data": {
      "text/plain": "['QWE', 'AQW', 'DHS', 'DKL', 'FHL', 'SKD', 'FHL', 'A']"
     },
     "execution_count": 10,
     "metadata": {},
     "output_type": "execute_result"
    }
   ],
   "source": [
    "dna='QWEAQWDHSDKLFHLSKDFHLA'\n",
    "()\n",
    "a={'A':'GCA','GCC','GCG','GCT'}\n",
    "[dna[i:i+3] for i in range(0, len(dna), 3)]\n"
   ],
   "metadata": {
    "collapsed": false,
    "pycharm": {
     "name": "#%%\n"
    }
   }
  }
 ],
 "metadata": {
  "kernelspec": {
   "display_name": "Python 3",
   "language": "python",
   "name": "python3"
  },
  "language_info": {
   "codemirror_mode": {
    "name": "ipython",
    "version": 2
   },
   "file_extension": ".py",
   "mimetype": "text/x-python",
   "name": "python",
   "nbconvert_exporter": "python",
   "pygments_lexer": "ipython2",
   "version": "2.7.6"
  }
 },
 "nbformat": 4,
 "nbformat_minor": 0
}