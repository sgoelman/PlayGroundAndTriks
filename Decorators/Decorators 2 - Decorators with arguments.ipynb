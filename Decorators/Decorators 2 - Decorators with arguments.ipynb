{
 "cells": [
  {
   "cell_type": "markdown",
   "metadata": {},
   "source": [
    "# Decorators 2: Decorators with arguments\n",
    "\n",
    "In some cases, you want the decorator itself (rather than the decorated function) to accept arguments.\n",
    "\n",
    "To create a decorator that accepts arguments, you need to create a 'meta-decorator' function that takes arguments and returns a regular decorator, which in turns returns a function. So there are three layers of functions!\n",
    "\n",
    "To create a decorator that *can* accept arguments, but also works without, you have to inspect whether the first argument to the decorator is a `callable` (e.g. a function); if so, then act as regular decorator; if not, then act as a meta-decorator.\n",
    "\n",
    "All of this sounds more complicated then it is. Let's take a look."
   ]
  },
  {
   "cell_type": "code",
   "execution_count": 17,
   "metadata": {},
   "outputs": [
    {
     "name": "stdout",
     "output_type": "stream",
     "text": [
      "3.0\n"
     ]
    }
   ],
   "source": [
    "import random\n",
    "\n",
    "\n",
    "def power_of(arg):\n",
    "    def decorator(fnc):\n",
    "        def inner():\n",
    "            return fnc() ** exponent\n",
    "        return inner\n",
    "    # default arguments if:\n",
    "    if callable(arg): \n",
    "        exponent = 2\n",
    "        return decorator(arg)\n",
    "    else:\n",
    "        exponent = arg\n",
    "        return decorator\n",
    "@power_of(.5)\n",
    "def random_odd_digit():\n",
    "    return random.choice([1, 3, 5, 7, 9])\n",
    "print(random_odd_digit())"
   ]
  }
 ],
 "metadata": {
  "kernelspec": {
   "display_name": "Python 3",
   "language": "python",
   "name": "python3"
  },
  "language_info": {
   "codemirror_mode": {
    "name": "ipython",
    "version": 3
   },
   "file_extension": ".py",
   "mimetype": "text/x-python",
   "name": "python",
   "nbconvert_exporter": "python",
   "pygments_lexer": "ipython3",
   "version": "3.6.5"
  },
  "pycharm": {
   "stem_cell": {
    "cell_type": "raw",
    "source": [],
    "metadata": {
     "collapsed": false
    }
   }
  }
 },
 "nbformat": 4,
 "nbformat_minor": 2
}