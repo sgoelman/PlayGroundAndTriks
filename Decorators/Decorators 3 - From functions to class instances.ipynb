{
 "cells": [
  {
   "cell_type": "markdown",
   "metadata": {},
   "source": [
    "## Decorators 3: Turning a function into a callable class instance\n",
    "\n",
    "A decorator doesn't need to replace one function with another function. It can also replace a function with a callable class instance. Doing so allows you to add properties and even methods to the decorated function!\n",
    "\n",
    "\n",
    "Let's create an `@Elephant` decorator, which remembers all the return values of the decorated function."
   ]
  },
  {
   "cell_type": "code",
   "execution_count": 14,
   "metadata": {},
   "outputs": [
    {
     "name": "stdout",
     "output_type": "stream",
     "text": [
      "9\n",
      "[9]\n",
      "1\n",
      "[9, 1]\n"
     ]
    }
   ],
   "source": [
    "import random\n",
    "\n",
    "\n",
    "class Elephant:\n",
    "    \n",
    "    def __init__(self, fnc):\n",
    "        \n",
    "        self._fnc = fnc\n",
    "        self._memory = []\n",
    "        \n",
    "    def __call__(self):\n",
    "        \n",
    "        retval = self._fnc()\n",
    "        self._memory.append(retval)\n",
    "        return retval\n",
    "    \n",
    "    def memory(self):\n",
    "        \n",
    "        return self._memory\n",
    "\n",
    "\n",
    "@Elephant\n",
    "def random_odd_digit():\n",
    "    \n",
    "    return random.choice([1, 3, 5, 7, 9])\n",
    "\n",
    "\n",
    "print(random_odd_digit())\n",
    "print(random_odd_digit.memory())\n",
    "print(random_odd_digit())\n",
    "print(random_odd_digit.memory())"
   ]
  }
 ],
 "metadata": {
  "kernelspec": {
   "display_name": "Python 3",
   "language": "python",
   "name": "python3"
  },
  "language_info": {
   "codemirror_mode": {
    "name": "ipython",
    "version": 3
   },
   "file_extension": ".py",
   "mimetype": "text/x-python",
   "name": "python",
   "nbconvert_exporter": "python",
   "pygments_lexer": "ipython3",
   "version": "3.6.5"
  }
 },
 "nbformat": 4,
 "nbformat_minor": 2
}
