{
 "cells": [
  {
   "cell_type": "markdown",
   "metadata": {},
   "source": [
    "# Decorators 1: The basics\n",
    "\n",
    "Let's take a look at the basics of Python decorators!\n",
    "\n",
    "\n",
    "## What is a decorator?\n",
    "\n",
    "A typical decorator is a function that takes a function as an argument, and returns another function. Python has a special syntax to apply decorators to functions, through a `@my_decorator` line above the function `def`."
   ]
  },
  {
   "cell_type": "code",
   "execution_count": 1,
   "metadata": {
    "pycharm": {
     "is_executing": false
    }
   },
   "outputs": [
    {
     "name": "stdout",
     "text": [
      "another function\n"
     ],
     "output_type": "stream"
    }
   ],
   "source": [
    "def turn_into_another_function(fnc):\n",
    "    \n",
    "    return another_function\n",
    "\n",
    "\n",
    "def another_function():\n",
    "    \n",
    "    print('another function')\n",
    "\n",
    "\n",
    "@turn_into_another_function\n",
    "def a_function():\n",
    "    \n",
    "    print('a function')\n",
    "        \n",
    "    \n",
    "a_function()"
   ]
  },
  {
   "cell_type": "markdown",
   "metadata": {},
   "source": [
    "## A typical decorator with an `inner()` function\n",
    "\n",
    "Typically, a decorator has an `inner()` function that is defined inside it. This `inner()` function then calls the original, decorated function, and adds some functionality to it.\n",
    "\n",
    "To illustrate this concept, let's define a `@mapper` decorator that changes a function that takes a single value into a function that takes a `list` (or other iterable) of values, applies the original function to each of the values, and returns the result as a list.\n",
    "\n",
    "Because a decorator replaces the decorated function by another function, the docstring and other properties of the original function are lost. To avoid this, you can decorate the `inner()` function using `functools.wraps`."
   ]
  },
  {
   "cell_type": "code",
   "execution_count": 2,
   "metadata": {
    "pycharm": {
     "is_executing": false
    }
   },
   "outputs": [
    {
     "name": "stdout",
     "text": [
      "Turn strings_like_this into StringsLikeThis\n",
      "['RickRoss', 'A$apRocky', 'SnoopDogg']\n"
     ],
     "output_type": "stream"
    }
   ],
   "source": [
    "from functools import wraps\n",
    "\n",
    "\n",
    "def mapper(fnc):\n",
    "    \n",
    "    @wraps(fnc)\n",
    "    def inner(list_of_values):\n",
    "        \n",
    "        \"\"\"This is the inner()\"\"\"\n",
    "        \n",
    "        return [fnc(value) for value in list_of_values]\n",
    "    \n",
    "    return inner\n",
    "\n",
    "\n",
    "@mapper\n",
    "def camelcase(s):\n",
    "    \n",
    "    \"\"\"Turn strings_like_this into StringsLikeThis\"\"\"\n",
    "    \n",
    "    return ''.join([word.capitalize() for word in s.split('_')])\n",
    "\n",
    "\n",
    "names = [\n",
    "    'rick_ross',\n",
    "    'a$ap_rocky',\n",
    "    'snoop_dogg'\n",
    "]\n",
    "\n",
    "print(camelcase.__doc__)\n",
    "print(camelcase(names))"
   ]
  }
 ],
 "metadata": {
  "kernelspec": {
   "display_name": "Python 3",
   "language": "python",
   "name": "python3"
  },
  "language_info": {
   "codemirror_mode": {
    "name": "ipython",
    "version": 3
   },
   "file_extension": ".py",
   "mimetype": "text/x-python",
   "name": "python",
   "nbconvert_exporter": "python",
   "pygments_lexer": "ipython3",
   "version": "3.6.5"
  },
  "pycharm": {
   "stem_cell": {
    "cell_type": "raw",
    "source": [],
    "metadata": {
     "collapsed": false
    }
   }
  }
 },
 "nbformat": 4,
 "nbformat_minor": 2
}