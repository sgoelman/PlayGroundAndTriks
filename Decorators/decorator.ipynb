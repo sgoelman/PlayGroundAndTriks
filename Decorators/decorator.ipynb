{
 "cells": [
  {
   "cell_type": "code",
   "execution_count": null,
   "metadata": {
    "collapsed": true
   },
   "outputs": [],
   "source": []
  },
  {
   "cell_type": "code",
   "execution_count": 2,
   "outputs": [
    {
     "name": "stdout",
     "text": [
      "1\n"
     ],
     "output_type": "stream"
    }
   ],
   "source": [
    "# Power of 2 Example\n",
    "import random\n",
    "\n",
    "def power_of(arg):\n",
    "    def decorator(fnc):\n",
    "        def inner():\n",
    "            return fnc() ** exponent\n",
    "        return inner\n",
    "    if callable(arg):\n",
    "        exponent = 2\n",
    "        return decorator(arg)\n",
    "    else:\n",
    "        exponent = arg\n",
    "        return decorator\n",
    "\n",
    "@power_of(2)\n",
    "def random_odd_digit():\n",
    "    \n",
    "    return random.choice([1, 3, 5, 7, 9])\n",
    "print (random_odd_digit())"
   ],
   "metadata": {
    "collapsed": false,
    "pycharm": {
     "name": "#%%\n",
     "is_executing": false
    }
   }
  },
  {
   "cell_type": "code",
   "execution_count": 8,
   "outputs": [
    {
     "name": "stdout",
     "text": [
      "I am DecFunc\n",
      "I am A\n",
      "I am B\n",
      "I am DecFunc\n"
     ],
     "output_type": "stream"
    }
   ],
   "source": [
    "# Simple Example \n",
    "def decFunc(fnc):\n",
    "    print(\"I am DecFunc\")\n",
    "    return fnc\n",
    "\n",
    "@decFunc\n",
    "def funcA():\n",
    "    print(\"I am A\")\n",
    "\n",
    "def funcB():\n",
    "    print(\"I am B\")\n",
    "    \n",
    "funcA()\n",
    "decFunc(funcB())\n"
   ],
   "metadata": {
    "collapsed": false,
    "pycharm": {
     "name": "#%%\n",
     "is_executing": false
    }
   }
  }
 ],
 "metadata": {
  "kernelspec": {
   "display_name": "Python 3",
   "language": "python",
   "name": "python3"
  },
  "language_info": {
   "codemirror_mode": {
    "name": "ipython",
    "version": 2
   },
   "file_extension": ".py",
   "mimetype": "text/x-python",
   "name": "python",
   "nbconvert_exporter": "python",
   "pygments_lexer": "ipython2",
   "version": "2.7.6"
  },
  "pycharm": {
   "stem_cell": {
    "cell_type": "raw",
    "source": [],
    "metadata": {
     "collapsed": false
    }
   }
  }
 },
 "nbformat": 4,
 "nbformat_minor": 0
}