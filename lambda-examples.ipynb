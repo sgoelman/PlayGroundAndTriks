{
 "cells": [
  {
   "cell_type": "code",
   "execution_count": 4,
   "metadata": {
    "collapsed": true
   },
   "outputs": [],
   "source": []
  },
  {
   "cell_type": "markdown",
   "source": [
    "# Syntax: lambda arguments : expression"
   ],
   "metadata": {
    "collapsed": false
   }
  },
  {
   "cell_type": "code",
   "execution_count": 5,
   "outputs": [
    {
     "name": "stdout",
     "output_type": "stream",
     "text": [
      "15\n"
     ]
    },
    {
     "data": {
      "text/plain": "15"
     },
     "execution_count": 5,
     "metadata": {},
     "output_type": "execute_result"
    }
   ],
   "source": [
    "# Add 10 \n",
    "x = lambda a : a + 10\n",
    "print(x(5))\n",
    "# or in 1 line :\n",
    "(lambda x: x + 10)(5)"
   ],
   "metadata": {
    "collapsed": false,
    "pycharm": {
     "name": "#%%\n"
    }
   }
  },
  {
   "cell_type": "code",
   "execution_count": 6,
   "outputs": [
    {
     "name": "stdout",
     "output_type": "stream",
     "text": [
      "a= 2 b= 11\n",
      "None\n",
      "/////////\n",
      "22\n",
      "d= 11\n",
      "22\n"
     ]
    }
   ],
   "source": [
    "# lamabada with 2 args\n",
    "\n",
    "x = lambda a, b ,is_print:print('a=',a ,'b=',b) if is_print else a*b\n",
    "print(x(2, 11,True))\n",
    "print('/////////')\n",
    "print(x(2, 11,False))\n",
    "# Or with a func:\n",
    "def myfunc(d,is_print):\n",
    "    if is_print:\n",
    "        print('d=',d)\n",
    "    return lambda c : c * d\n",
    "myfunc(11,True)\n",
    "mydoubler = myfunc(11,False)\n",
    "print(mydoubler(2))\n",
    "\n"
   ],
   "metadata": {
    "collapsed": false,
    "pycharm": {
     "name": "#%%\n"
    }
   }
  },
  {
   "cell_type": "code",
   "execution_count": 7,
   "outputs": [
    {
     "name": "stdout",
     "output_type": "stream",
     "text": [
      "['QWE', 'AQW', 'DHS', 'DKL', 'FHL', 'SKD', 'FHL', 'A']\n",
      "['QWE', 'AQW', 'DHS', 'DKL', 'FHL', 'SKD', 'FHL', 'A']\n"
     ]
    }
   ],
   "source": [
    "from textwrap import wrap\n",
    "k=3\n",
    "dna='QWEAQWDHSDKLFHLSKDFHLA'\n",
    "print(wrap(dna,3))\n",
    "\n",
    "def split_by_n(seq, n=3):\n",
    "    '''A generator to divide a sequence into chunks of n units.'''\n",
    "    while seq:\n",
    "        yield seq[:n]\n",
    "        seq = seq[n:]\n",
    "print(list(split_by_n(dna,3)))"
   ],
   "metadata": {
    "collapsed": false,
    "pycharm": {
     "name": "#%%\n"
    }
   }
  }
 ],
 "metadata": {
  "kernelspec": {
   "display_name": "Python 3",
   "language": "python",
   "name": "python3"
  },
  "language_info": {
   "codemirror_mode": {
    "name": "ipython",
    "version": 2
   },
   "file_extension": ".py",
   "mimetype": "text/x-python",
   "name": "python",
   "nbconvert_exporter": "python",
   "pygments_lexer": "ipython2",
   "version": "2.7.6"
  }
 },
 "nbformat": 4,
 "nbformat_minor": 0
}