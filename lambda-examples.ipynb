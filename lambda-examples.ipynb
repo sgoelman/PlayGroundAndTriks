{
 "cells": [
  {
   "cell_type": "code",
   "execution_count": 8,
   "metadata": {
    "collapsed": true,
    "pycharm": {
     "is_executing": false
    }
   },
   "outputs": [
    {
     "name": "stdout",
     "text": [
      "15\n"
     ],
     "output_type": "stream"
    }
   ],
   "source": []
  },
  {
   "cell_type": "markdown",
   "source": [
    "# Syntax: lambda arguments : expression"
   ],
   "metadata": {
    "collapsed": false
   }
  },
  {
   "cell_type": "code",
   "execution_count": 15,
   "outputs": [
    {
     "name": "stdout",
     "text": [
      "15\n"
     ],
     "output_type": "stream"
    },
    {
     "data": {
      "text/plain": "15"
     },
     "metadata": {},
     "output_type": "execute_result",
     "execution_count": 15
    }
   ],
   "source": [
    "# Add 10 \n",
    "x = lambda a : a + 10\n",
    "print(x(5))\n",
    "# or in 1 line :\n",
    "(lambda x: x + 10)(5)"
   ],
   "metadata": {
    "collapsed": false,
    "pycharm": {
     "name": "#%%\n",
     "is_executing": false
    }
   }
  },
  {
   "cell_type": "code",
   "execution_count": 28,
   "outputs": [
    {
     "name": "stdout",
     "text": [
      "a= 2 b= 11\n",
      "None\n",
      "/////////\n",
      "22\n",
      "d= 11\n",
      "22\n"
     ],
     "output_type": "stream"
    }
   ],
   "source": [
    "# lamabada with 2 args\n",
    "\n",
    "x = lambda a, b ,is_print:print('a=',a ,'b=',b) if is_print else a*b\n",
    "print(x(2, 11,True))\n",
    "print('/////////')\n",
    "print(x(2, 11,False))\n",
    "# Or with a func:\n",
    "def myfunc(d,is_print):\n",
    "    if is_print:\n",
    "        print('d=',d)\n",
    "    return lambda c : c * d\n",
    "myfunc(11,True)\n",
    "mydoubler = myfunc(11,False)\n",
    "print(mydoubler(2))\n",
    "\n"
   ],
   "metadata": {
    "collapsed": false,
    "pycharm": {
     "name": "#%%\n",
     "is_executing": false
    }
   }
  },
  {
   "cell_type": "code",
   "execution_count": 16,
   "outputs": [
    {
     "name": "stdout",
     "text": [
      "22\n"
     ],
     "output_type": "stream"
    }
   ],
   "source": [],
   "metadata": {
    "collapsed": false,
    "pycharm": {
     "name": "#%%\n",
     "is_executing": false
    }
   }
  }
 ],
 "metadata": {
  "kernelspec": {
   "display_name": "Python 3",
   "language": "python",
   "name": "python3"
  },
  "language_info": {
   "codemirror_mode": {
    "name": "ipython",
    "version": 2
   },
   "file_extension": ".py",
   "mimetype": "text/x-python",
   "name": "python",
   "nbconvert_exporter": "python",
   "pygments_lexer": "ipython2",
   "version": "2.7.6"
  },
  "pycharm": {
   "stem_cell": {
    "cell_type": "raw",
    "source": [],
    "metadata": {
     "collapsed": false
    }
   }
  }
 },
 "nbformat": 4,
 "nbformat_minor": 0
}