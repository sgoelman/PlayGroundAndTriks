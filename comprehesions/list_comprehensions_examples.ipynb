{
 "cells": [
  {
   "cell_type": "code",
   "execution_count": 4,
   "metadata": {
    "collapsed": true,
    "pycharm": {
     "is_executing": false
    }
   },
   "outputs": [
    {
     "name": "stdout",
     "output_type": "stream",
     "text": [
      "[1, 4, 9, 16, 25, 36, 49, 64, 81, 100, 121, 144, 169, 196, 225, 256, 289, 324, 361, 400, 441, 484, 529, 576, 625, 676, 729, 784, 841, 900, 961, 1024, 1089, 1156, 1225, 1296, 1369, 1444, 1521, 1600, 1681, 1764, 1849, 1936, 2025, 2116, 2209, 2304, 2401, 2500, 2601, 2704, 2809, 2916, 3025, 3136, 3249, 3364, 3481, 3600, 3721, 3844, 3969, 4096, 4225, 4356, 4489, 4624, 4761, 4900, 5041, 5184, 5329, 5476, 5625, 5776, 5929, 6084, 6241, 6400, 6561, 6724, 6889, 7056, 7225, 7396, 7569, 7744, 7921, 8100, 8281, 8464, 8649, 8836, 9025, 9216, 9409, 9604, 9801, 10000]\n"
     ]
    }
   ],
   "source": [
    "squares=[]\n",
    "for i in range(1,101):\n",
    "    squares.append(i**2)\n",
    "# print(squares)\n",
    "\n",
    "print([i**2 for i in range(1,101)])"
   ]
  },
  {
   "cell_type": "code",
   "execution_count": 6,
   "metadata": {
    "pycharm": {
     "is_executing": false,
     "name": "#%%\n"
    }
   },
   "outputs": [
    {
     "name": "stdout",
     "output_type": "stream",
     "text": [
      "[1, 4, 4, 1, 0, 1, 4, 4, 1, 0, 1, 4, 4, 1, 0, 1, 4, 4, 1, 0, 1, 4, 4, 1, 0, 1, 4, 4, 1, 0, 1, 4, 4, 1, 0, 1, 4, 4, 1, 0, 1, 4, 4, 1, 0, 1, 4, 4, 1, 0, 1, 4, 4, 1, 0, 1, 4, 4, 1, 0, 1, 4, 4, 1, 0, 1, 4, 4, 1, 0, 1, 4, 4, 1, 0, 1, 4, 4, 1, 0, 1, 4, 4, 1, 0, 1, 4, 4, 1, 0, 1, 4, 4, 1, 0, 1, 4, 4, 1]\n",
      "[1, 4, 9, 5, 3, 3, 5, 9, 4, 1, 0, 1, 4, 9, 5, 3, 3, 5, 9, 4, 1, 0, 1, 4, 9, 5, 3, 3, 5, 9, 4, 1, 0, 1, 4, 9, 5, 3, 3, 5, 9, 4, 1, 0, 1, 4, 9, 5, 3, 3, 5, 9, 4, 1, 0, 1, 4, 9, 5, 3, 3, 5, 9, 4, 1, 0, 1, 4, 9, 5, 3, 3, 5, 9, 4, 1, 0, 1, 4, 9, 5, 3, 3, 5, 9, 4, 1, 0, 1, 4, 9, 5, 3, 3, 5, 9, 4, 1, 0]\n"
     ]
    }
   ],
   "source": [
    "remainders_by5=[x**2%5 for x in range(1,100)]\n",
    "print(remainders_by5)\n",
    "remainders_by11=[x**2%11 for x in range(1,100)]\n",
    "print(remainders_by11)\n",
    "\n",
    "\n"
   ]
  },
  {
   "cell_type": "code",
   "execution_count": 7,
   "metadata": {
    "pycharm": {
     "is_executing": false,
     "name": "#%%\n"
    }
   },
   "outputs": [
    {
     "name": "stdout",
     "output_type": "stream",
     "text": [
      "['p', 'm', 'pa', 'ma']\n"
     ]
    }
   ],
   "source": [
    "# List tricks\n",
    "my_list = ['p','r','o','g','r','a','m','i','z','pa', 'ra', 'oa', 'ba', 'la', 'ea', 'ma']\n",
    "starts_with_m_p = [ i for i in my_list if i.startswith(\"m\") or i.startswith(\"p\")]\n",
    "print(starts_with_m_p)\n"
   ]
  },
  {
   "cell_type": "code",
   "execution_count": 8,
   "metadata": {
    "pycharm": {
     "is_executing": false,
     "name": "#%%\n"
    }
   },
   "outputs": [
    {
     "name": "stdout",
     "output_type": "stream",
     "text": [
      "[2, -3, 1, 2, -3, 1, 2, -3, 1, 2, -3, 1]\n",
      "[8, -12, 4]\n"
     ]
    }
   ],
   "source": [
    "# multiple vectors\n",
    "v=[2,-3,1]\n",
    "print( 4*v)\n",
    "w=[4*x for x in v]\n",
    "print(w)\n"
   ]
  },
  {
   "cell_type": "code",
   "execution_count": 11,
   "metadata": {
    "pycharm": {
     "is_executing": false,
     "name": "#%%\n"
    }
   },
   "outputs": [
    {
     "name": "stdout",
     "output_type": "stream",
     "text": [
      "[(1, 8), (1, 2), (1, 4), (1, 6), (3, 8), (3, 2), (3, 4), (3, 6), (5, 8), (5, 2), (5, 4), (5, 6), (7, 8), (7, 2), (7, 4), (7, 6)]\n"
     ]
    }
   ],
   "source": [
    "# adding 2 tuples\n",
    "A={1,3,5,7}\n",
    "B={2,4,6,8}\n",
    "cp=[(a,b) for a in A for b in B]\n",
    "print(cp)\n",
    "\n"
   ]
  },
  {
   "cell_type": "code",
   "execution_count": 20,
   "metadata": {
    "pycharm": {
     "is_executing": false,
     "name": "#%%\n"
    }
   },
   "outputs": [
    {
     "name": "stdout",
     "output_type": "stream",
     "text": [
      "[11, 10, 1, 2, 3, 4, 5, 6, 7, 8, 9]\n",
      "[11, 10, 1, 2, 3, 4, 5, 6, 3, 5, 7, 8, 9, 1, 2, 3, 10]\n",
      "[11, 10, 1, 2, 3, 4, 5, 6, 7, 8, 9]\n",
      "[11, 10, 1, 2, 3, 4, 5, 6, 3, 5, 7, 8, 9, 1, 2, 3, 10]\n"
     ]
    }
   ],
   "source": [
    "# Reduce duplicates:\n",
    "list_int=[11,10,1,1,2,3,4,4,4,4,5,6,3,3,5,5,7,8,8,8,9,1,2,3,3,3,10,10]\n",
    "\n",
    "# using dictionary \n",
    "print(list(dict.fromkeys(list_int)))\n",
    "# using enumerate \n",
    "print([n for i, n in enumerate(list_int) if list_int.index(n) == i])\n"
   ]
  },
  {
   "cell_type": "code",
   "execution_count": 22,
   "metadata": {
    "pycharm": {
     "is_executing": false,
     "name": "#%%\n"
    }
   },
   "outputs": [
    {
     "name": "stdout",
     "output_type": "stream",
     "text": [
      "15\n"
     ]
    }
   ],
   "source": [
    "# finding the max number in a list \n",
    "nums =[11,10,1,1,2,3,4,4,4,4,5,6,3,3,5,5,12,15,7,7,8,8,8,9,1,2,3,3,3,10,10]\n",
    "print(max(nums))\n",
    "\n",
    "\n"
   ]
  }
 ],
 "metadata": {
  "kernelspec": {
   "display_name": "Python 3",
   "language": "python",
   "name": "python3"
  },
  "language_info": {
   "codemirror_mode": {
    "name": "ipython",
    "version": 3
   },
   "file_extension": ".py",
   "mimetype": "text/x-python",
   "name": "python",
   "nbconvert_exporter": "python",
   "pygments_lexer": "ipython3",
   "version": "3.7.7"
  },
  "pycharm": {
   "stem_cell": {
    "cell_type": "raw",
    "metadata": {
     "collapsed": false
    },
    "source": []
   }
  }
 },
 "nbformat": 4,
 "nbformat_minor": 1
}
