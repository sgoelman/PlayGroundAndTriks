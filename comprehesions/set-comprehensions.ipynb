{
 "cells": [
  {
   "cell_type": "markdown",
   "metadata": {},
   "source": [
    "# Comprehensions in Python\n",
    "\n",
    "## Video 3: `set` comprehensions\n",
    "\n",
    "A comprehension is a way to build an iterable object in one expression, without the need for a traditional `for` loop. There are four kinds of expressions that *almost* map onto the four iterable types that are built into Python.\n",
    "\n",
    "- `list` comprehension → `list`\n",
    "- `dict` comprehension → `dict`\n",
    "- __`set` comprehension → `set` (this video)__\n",
    "- generator expression → generator object\n",
    "\n",
    "There is no `tuple` comprehension!"
   ]
  },
  {
   "cell_type": "markdown",
   "metadata": {},
   "source": [
    "## What is a `set`?\n",
    "\n",
    "A `set` is an *unordered*, *mutable* collection of *unique* elements."
   ]
  },
  {
   "cell_type": "markdown",
   "metadata": {},
   "source": [
    "## What are we going to do?\n",
    "\n",
    "We're going to create two sets: prime numbers and fibonacci numbers, both in the range from 1 to 100. Then we'll take the union of those sets: those numbers that are both prime and fibonacci."
   ]
  },
  {
   "cell_type": "code",
   "execution_count": 1,
   "metadata": {
    "pycharm": {
     "is_executing": false
    }
   },
   "outputs": [],
   "source": [
    "import itertools\n",
    "\n",
    "\n",
    "def is_prime(i):\n",
    "    \n",
    "    # This is a generator expression!\n",
    "    return all(i % j for j in range(2, i))\n",
    " \n",
    "        \n",
    "def is_fibonacci(i):\n",
    "    \n",
    "    history = 0, 1\n",
    "    while sum(history) < i:\n",
    "        history = history[1], sum(history)\n",
    "    return sum(history) == i\n",
    "\n",
    "\n",
    "NUMBERS = range(1, 101)"
   ]
  },
  {
   "cell_type": "markdown",
   "metadata": {},
   "source": [
    "### With a `for` loop"
   ]
  },
  {
   "cell_type": "code",
   "execution_count": 2,
   "metadata": {},
   "outputs": [
    {
     "name": "stdout",
     "output_type": "stream",
     "text": [
      "{1, 2, 3, 5, 13, 89}\n"
     ]
    }
   ],
   "source": [
    "primes = set()\n",
    "fibonaccis = set()\n",
    "for i in NUMBERS:\n",
    "    if is_prime(i):\n",
    "        primes.add(i)\n",
    "    if is_fibonacci(i):\n",
    "        fibonaccis.add(i)\n",
    "print( primes & fibonaccis)\n"
   ]
  },
  {
   "cell_type": "markdown",
   "metadata": {},
   "source": [
    "### With a `set` comprehension"
   ]
  },
  {
   "cell_type": "code",
   "execution_count": 4,
   "metadata": {
    "pycharm": {
     "is_executing": false
    }
   },
   "outputs": [
    {
     "name": "stdout",
     "text": [
      "{1, 2, 3, 5, 13, 89}\n"
     ],
     "output_type": "stream"
    }
   ],
   "source": [
    "primes_fibo = {i for i in NUMBERS if is_prime(i) & is_fibonacci(i)}\n",
    "print(primes_fibo)"
   ]
  },
  {
   "cell_type": "code",
   "execution_count": null,
   "outputs": [],
   "source": [
    "primes = {i for i in NUMBERS if is_prime(i)}\n",
    "fibonaccis = {i for i in NUMBERS if is_fibonacci(i)}\n",
    "s = primes & fibonaccis\n",
    "print(s)\n",
    "\n"
   ],
   "metadata": {
    "collapsed": false,
    "pycharm": {
     "name": "#%%\n"
    }
   }
  }
 ],
 "metadata": {
  "kernelspec": {
   "display_name": "Python 3",
   "language": "python",
   "name": "python3"
  },
  "language_info": {
   "codemirror_mode": {
    "name": "ipython",
    "version": 3
   },
   "file_extension": ".py",
   "mimetype": "text/x-python",
   "name": "python",
   "nbconvert_exporter": "python",
   "pygments_lexer": "ipython3",
   "version": "3.6.7"
  },
  "pycharm": {
   "stem_cell": {
    "cell_type": "raw",
    "source": [],
    "metadata": {
     "collapsed": false
    }
   }
  }
 },
 "nbformat": 4,
 "nbformat_minor": 2
}