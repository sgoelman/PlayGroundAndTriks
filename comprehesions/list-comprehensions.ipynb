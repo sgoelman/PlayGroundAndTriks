{
 "cells": [
  {
   "cell_type": "markdown",
   "metadata": {
    "slideshow": {
     "slide_type": "-"
    }
   },
   "source": [
    "# Comprehensions in Python\n",
    "\n",
    "## Video 1: `list` comprehensions\n",
    "\n",
    "A comprehension is a way to build an iterable object in one expression, without the need for a traditional `for` loop. There are four kinds of expressions that *almost* map onto the four iterable types that are built into Python.\n",
    "\n",
    "- __`list` comprehension → `list` (this video)__\n",
    "- `dict` comprehension → `dict`\n",
    "- `set` comprehension → `set`\n",
    "- generator expression → generator object\n",
    "\n",
    "There is no `tuple` comprehension!"
   ]
  },
  {
   "cell_type": "markdown",
   "metadata": {},
   "source": [
    "## What is a `list`?\n",
    "\n",
    "A `list` is an *ordered* and *mutable* collection of elements."
   ]
  },
  {
   "cell_type": "markdown",
   "metadata": {},
   "source": [
    "## What are we going to do?\n",
    "\n",
    "We're going to work with the population of the world over time! We're going to do two things:\n",
    "\n",
    "- Express the population as a proportion of the size of a locust plague\n",
    "- Filter out the numbers that are less than a billion"
   ]
  },
  {
   "cell_type": "code",
   "execution_count": 2,
   "metadata": {
    "pycharm": {
     "is_executing": false
    }
   },
   "outputs": [],
   "source": [
    "from functools import reduce\n",
    "def to_locust_units(population):\n",
    "    \n",
    "    return population / LOCUST_PLAGUE_POPULATION\n",
    "\n",
    "\n",
    "world_population = [\n",
    "      585_000_000, # 1500\n",
    "      660_000_000, # 1600\n",
    "      740_000_000, # 1700\n",
    "      978_000_000, # 1800\n",
    "    1_650_000_000, # 1900\n",
    "    6_008_000_000, # 1999\n",
    "    7_052_000_000  # 2012 \n",
    "]\n",
    "\n",
    "\n",
    "LOCUST_PLAGUE_POPULATION = 30_000_000_000\n",
    "POPULATION_THRESHOLD = 1_000_000_000"
   ]
  },
  {
   "cell_type": "markdown",
   "metadata": {},
   "source": [
    "### With  a `for` loop"
   ]
  },
  {
   "cell_type": "code",
   "execution_count": 3,
   "metadata": {
    "pycharm": {
     "is_executing": false
    }
   },
   "outputs": [
    {
     "name": "stdout",
     "text": [
      "[0.055, 0.20026666666666668, 0.23506666666666667]\n"
     ],
     "output_type": "stream"
    }
   ],
   "source": [
    "l = []\n",
    "for p in world_population:\n",
    "    if p < POPULATION_THRESHOLD:\n",
    "        continue\n",
    "    l.append(to_locust_units(p))\n",
    "print(l)"
   ]
  },
  {
   "cell_type": "markdown",
   "metadata": {},
   "source": [
    "### With a `list` comprehension"
   ]
  },
  {
   "cell_type": "code",
   "execution_count": 70,
   "metadata": {
    "pycharm": {
     "is_executing": false
    }
   },
   "outputs": [
    {
     "name": "stdout",
     "output_type": "stream",
     "text": [
      "[0.055, 0.20026666666666668, 0.23506666666666667]\n"
     ]
    }
   ],
   "source": [
    "l = [\n",
    "    to_locust_units(p)\n",
    "    for p in world_population\n",
    "    if p >= POPULATION_THRESHOLD\n",
    "]\n",
    "print(l)"
   ]
  },
  {
   "cell_type": "markdown",
   "metadata": {},
   "source": [
    "### With `map()` and `filter()`"
   ]
  },
  {
   "cell_type": "code",
   "execution_count": 7,
   "metadata": {
    "pycharm": {
     "is_executing": false
    }
   },
   "outputs": [
    {
     "name": "stdout",
     "text": [
      "[0.055, 0.20026666666666668, 0.23506666666666667]\n"
     ],
     "output_type": "stream"
    }
   ],
   "source": [
    "def is_big_enough(p):\n",
    "    return p >= POPULATION_THRESHOLD\n",
    "\n",
    "\n",
    "m = map(to_locust_units,filter(is_big_enough,world_population)\n",
    ")\n",
    "print(list(m))"
   ]
  },
  {
   "cell_type": "markdown",
   "metadata": {},
   "source": [
    "## Nested comprehensions\n",
    "\n",
    "Let's create a grid of `x, y` coordinates!"
   ]
  },
  {
   "cell_type": "code",
   "execution_count": 2,
   "metadata": {},
   "outputs": [],
   "source": [
    "xcoor = [ 0,  1,  2]\n",
    "ycoor = [-2, -1,  0]"
   ]
  },
  {
   "cell_type": "markdown",
   "metadata": {},
   "source": [
    "### With a nested `for` loop"
   ]
  },
  {
   "cell_type": "code",
   "execution_count": 2,
   "metadata": {},
   "outputs": [
    {
     "ename": "NameError",
     "evalue": "name 'xcoor' is not defined",
     "output_type": "error",
     "traceback": [
      "\u001B[1;31m---------------------------------------------------------------------------\u001B[0m",
      "\u001B[1;31mNameError\u001B[0m                                 Traceback (most recent call last)",
      "\u001B[1;32m<ipython-input-2-76b218284ecc>\u001B[0m in \u001B[0;36m<module>\u001B[1;34m\u001B[0m\n\u001B[0;32m      1\u001B[0m \u001B[0ml\u001B[0m \u001B[1;33m=\u001B[0m \u001B[1;33m[\u001B[0m\u001B[1;33m]\u001B[0m\u001B[1;33m\u001B[0m\u001B[1;33m\u001B[0m\u001B[0m\n\u001B[1;32m----> 2\u001B[1;33m \u001B[1;32mfor\u001B[0m \u001B[0mx\u001B[0m \u001B[1;32min\u001B[0m \u001B[0mxcoor\u001B[0m\u001B[1;33m:\u001B[0m\u001B[1;33m\u001B[0m\u001B[1;33m\u001B[0m\u001B[0m\n\u001B[0m\u001B[0;32m      3\u001B[0m     \u001B[1;32mfor\u001B[0m \u001B[0my\u001B[0m \u001B[1;32min\u001B[0m \u001B[0mycoor\u001B[0m\u001B[1;33m:\u001B[0m\u001B[1;33m\u001B[0m\u001B[1;33m\u001B[0m\u001B[0m\n\u001B[0;32m      4\u001B[0m         \u001B[0ml\u001B[0m\u001B[1;33m.\u001B[0m\u001B[0mappend\u001B[0m\u001B[1;33m(\u001B[0m\u001B[1;33m(\u001B[0m\u001B[0mx\u001B[0m\u001B[1;33m,\u001B[0m\u001B[0my\u001B[0m\u001B[1;33m)\u001B[0m\u001B[1;33m)\u001B[0m\u001B[1;33m\u001B[0m\u001B[1;33m\u001B[0m\u001B[0m\n\u001B[0;32m      5\u001B[0m \u001B[0mprint\u001B[0m\u001B[1;33m(\u001B[0m\u001B[0ml\u001B[0m\u001B[1;33m)\u001B[0m\u001B[1;33m\u001B[0m\u001B[1;33m\u001B[0m\u001B[0m\n",
      "\u001B[1;31mNameError\u001B[0m: name 'xcoor' is not defined"
     ]
    }
   ],
   "source": [
    "l = []\n",
    "for x in xcoor:\n",
    "    for y in ycoor:\n",
    "        l.append((x,y))\n",
    "print(l)"
   ]
  },
  {
   "cell_type": "markdown",
   "metadata": {},
   "source": [
    "### With a nested `list` comprehension"
   ]
  },
  {
   "cell_type": "code",
   "execution_count": 3,
   "metadata": {},
   "outputs": [
    {
     "name": "stdout",
     "output_type": "stream",
     "text": [
      "[(0, -2), (0, -1), (0, 0), (1, -2), (1, -1), (1, 0), (2, -2), (2, -1), (2, 0)]\n"
     ]
    }
   ],
   "source": [
    "l = [(x, y) for x in xcoor for y in ycoor]\n",
    "print(l)"
   ]
  },
  {
   "cell_type": "markdown",
   "metadata": {},
   "source": [
    "### With `itertools.product()`"
   ]
  },
  {
   "cell_type": "code",
   "execution_count": 69,
   "metadata": {
    "pycharm": {
     "is_executing": false
    }
   },
   "outputs": [
    {
     "name": "stdout",
     "output_type": "stream",
     "text": [
      "[(0, -2), (0, -1), (0, 0), (1, -2), (1, -1), (1, 0), (2, -2), (2, -1), (2, 0)]\n"
     ]
    }
   ],
   "source": [
    "import itertools\n",
    "\n",
    "p = itertools.product(xcoor, ycoor)\n",
    "print(list(p))"
   ]
  },
  {
   "cell_type": "code",
   "execution_count": 4,
   "metadata": {
    "pycharm": {
     "is_executing": false,
     "name": "#%%\n"
    }
   },
   "outputs": [
    {
     "name": "stdout",
     "text": [
      "CamelCase\n"
     ],
     "output_type": "stream"
    }
   ],
   "source": [
    "# list comp with join\n",
    "# turn camel_case to camelCase\n",
    "def toCamelcase(str):\n",
    "    return ''.join([word.capitalize() for word in str.split('_')])\n",
    "print(toCamelcase('camel_case'))"
   ]
  },
  {
   "cell_type": "code",
   "execution_count": 6,
   "outputs": [
    {
     "ename": "TypeError",
     "evalue": "int() argument must be a string, a bytes-like object or a number, not 'list'",
     "output_type": "error",
     "traceback": [
      "\u001B[1;31m---------------------------------------------------------------------------\u001B[0m",
      "\u001B[1;31mTypeError\u001B[0m                                 Traceback (most recent call last)",
      "\u001B[1;32m<ipython-input-6-f5ddf85aafb7>\u001B[0m in \u001B[0;36m<module>\u001B[1;34m\u001B[0m\n\u001B[0;32m      3\u001B[0m \u001B[0mdata\u001B[0m \u001B[1;33m=\u001B[0m \u001B[1;33m{\u001B[0m\u001B[0mprocnum\u001B[0m\u001B[1;33m:\u001B[0m \u001B[1;33m{\u001B[0m\u001B[1;36m2147483647\u001B[0m\u001B[1;33m:\u001B[0m \u001B[1;32mNone\u001B[0m\u001B[1;33m}\u001B[0m\u001B[1;33m,\u001B[0m \u001B[1;36m2\u001B[0m\u001B[1;33m:\u001B[0m \u001B[1;33m{\u001B[0m\u001B[1;36m12412\u001B[0m\u001B[1;33m:\u001B[0m \u001B[1;32mNone\u001B[0m\u001B[1;33m}\u001B[0m\u001B[1;33m,\u001B[0m \u001B[1;36m3\u001B[0m\u001B[1;33m:\u001B[0m \u001B[1;33m{\u001B[0m\u001B[1;36m15\u001B[0m\u001B[1;33m:\u001B[0m \u001B[1;32mNone\u001B[0m\u001B[1;33m}\u001B[0m\u001B[1;33m}\u001B[0m\u001B[1;33m\u001B[0m\u001B[1;33m\u001B[0m\u001B[0m\n\u001B[0;32m      4\u001B[0m \u001B[0mvar\u001B[0m\u001B[1;33m=\u001B[0m\u001B[1;33m[\u001B[0m\u001B[0mx\u001B[0m \u001B[1;32mfor\u001B[0m \u001B[0mx\u001B[0m \u001B[1;32min\u001B[0m \u001B[0mdata\u001B[0m\u001B[1;33m[\u001B[0m\u001B[0mprocnum\u001B[0m\u001B[1;33m]\u001B[0m\u001B[1;33m]\u001B[0m\u001B[1;33m\u001B[0m\u001B[1;33m\u001B[0m\u001B[0m\n\u001B[1;32m----> 5\u001B[1;33m \u001B[0mprint\u001B[0m\u001B[1;33m(\u001B[0m\u001B[0mint\u001B[0m\u001B[1;33m(\u001B[0m\u001B[0mvar\u001B[0m\u001B[1;33m)\u001B[0m\u001B[1;33m)\u001B[0m\u001B[1;33m\u001B[0m\u001B[1;33m\u001B[0m\u001B[0m\n\u001B[0m\u001B[0;32m      6\u001B[0m \u001B[0mx\u001B[0m\u001B[1;33m=\u001B[0m\u001B[1;33m[\u001B[0m\u001B[1;33m]\u001B[0m\u001B[1;33m\u001B[0m\u001B[1;33m\u001B[0m\u001B[0m\n\u001B[0;32m      7\u001B[0m \u001B[1;33m\u001B[0m\u001B[0m\n",
      "\u001B[1;31mTypeError\u001B[0m: int() argument must be a string, a bytes-like object or a number, not 'list'"
     ]
    }
   ],
   "source": [
    "procnum = 1\n",
    "\n",
    "data = {procnum: {2147483647: None}, 2: {12412: None}, 3: {15: None}}\n",
    "key = for x in data[procnum]\n",
    "for key in data[procnum]:\n",
    "    print(int(key))\n",
    "x=[]\n",
    "\n"
   ],
   "metadata": {
    "collapsed": false,
    "pycharm": {
     "name": "#%%\n"
    }
   }
  }
 ],
 "metadata": {
  "kernelspec": {
   "display_name": "Python 3",
   "language": "python",
   "name": "python3"
  },
  "language_info": {
   "codemirror_mode": {
    "name": "ipython",
    "version": 3
   },
   "file_extension": ".py",
   "mimetype": "text/x-python",
   "name": "python",
   "nbconvert_exporter": "python",
   "pygments_lexer": "ipython3",
   "version": "3.7.7"
  }
 },
 "nbformat": 4,
 "nbformat_minor": 2
}