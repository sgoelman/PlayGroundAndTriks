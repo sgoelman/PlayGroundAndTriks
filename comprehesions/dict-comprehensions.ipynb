{
 "cells": [
  {
   "cell_type": "markdown",
   "metadata": {},
   "source": [
    "# Comprehensions in Python\n",
    "\n",
    "## Video 2: `dict` comprehensions\n",
    "\n",
    "A comprehension is a way to build an iterable object in one expression, without the need for a traditional `for` loop. There are four kinds of expressions that *almost* map onto the four iterable types that are built into Python.\n",
    "\n",
    "- `list` comprehension → `list`\n",
    "- __`dict` comprehension → `dict` (this video)__\n",
    "- `set` comprehension → `set`\n",
    "- generator expression → generator object\n",
    "\n",
    "There is no `tuple` comprehension!"
   ]
  },
  {
   "cell_type": "markdown",
   "metadata": {},
   "source": [
    "## What is a `dict`\n",
    "\n",
    "A `dict` is an *unordered* collection of *key, value* mappings.\n",
    "\n",
    "## What are we going to do?\n",
    "\n",
    "We're going to look at the tallest buildings in the world! We're going to do three things:\n",
    "\n",
    "- Capitalize the names of the buildings\n",
    "- Convert their height from meters to feet\n",
    "- Filter out all the buildings that do not have 'tower' in their name"
   ]
  },
  {
   "cell_type": "code",
   "execution_count": 3,
   "metadata": {
    "pycharm": {
     "is_executing": false
    }
   },
   "outputs": [],
   "source": [
    "def to_feet(m):\n",
    "    \n",
    "    return m * 3.28048\n",
    "\n",
    "\n",
    "tall_buildings = {\n",
    "    'burj khalifa':              828,\n",
    "    'shanghai tower':            632,\n",
    "    'abraj al-bait clock tower': 601,\n",
    "    'ping an finance centre':    599,\n",
    "    'lotte world tower':         554\n",
    "}"
   ]
  },
  {
   "cell_type": "markdown",
   "metadata": {},
   "source": [
    "### With a `for` loop\n"
   ]
  },
  {
   "cell_type": "code",
   "execution_count": 7,
   "metadata": {
    "pycharm": {
     "is_executing": false
    }
   },
   "outputs": [
    {
     "name": "stdout",
     "text": [
      "{'Shanghai tower': 2073.26336, 'Abraj al-bait clock tower': 1971.56848, 'Lotte world tower': 1817.38592}\n"
     ],
     "output_type": "stream"
    }
   ],
   "source": [
    "d = {}\n",
    "# items() enables us to get both keys and vals from dict \n",
    "for name, height in tall_buildings.items():\n",
    "    if 'tower' not in name:\n",
    "        continue\n",
    "    d[name.capitalize()] = to_feet(height)\n",
    "print(d)"
   ]
  },
  {
   "cell_type": "markdown",
   "metadata": {},
   "source": [
    "### With a `dict` comprehension"
   ]
  },
  {
   "cell_type": "code",
   "execution_count": 4,
   "metadata": {},
   "outputs": [
    {
     "name": "stdout",
     "output_type": "stream",
     "text": [
      "{'Shanghai tower': 2073.26336, 'Abraj al-bait clock tower': 1971.56848, 'Lotte world tower': 1817.38592}\n"
     ]
    }
   ],
   "source": [
    "d = {\n",
    "    name.capitalize(): to_feet(height)\n",
    "    for name, height in tall_buildings.items()\n",
    "    if 'tower' in name\n",
    "}\n",
    "print(d)"
   ]
  },
  {
   "cell_type": "code",
   "execution_count": null,
   "outputs": [],
   "source": [
    "\n"
   ],
   "metadata": {
    "collapsed": false,
    "pycharm": {
     "name": "#%%\n"
    }
   }
  }
 ],
 "metadata": {
  "kernelspec": {
   "display_name": "Python 3",
   "language": "python",
   "name": "python3"
  },
  "language_info": {
   "codemirror_mode": {
    "name": "ipython",
    "version": 3
   },
   "file_extension": ".py",
   "mimetype": "text/x-python",
   "name": "python",
   "nbconvert_exporter": "python",
   "pygments_lexer": "ipython3",
   "version": "3.6.7"
  },
  "pycharm": {
   "stem_cell": {
    "cell_type": "raw",
    "source": [],
    "metadata": {
     "collapsed": false
    }
   }
  }
 },
 "nbformat": 4,
 "nbformat_minor": 2
}